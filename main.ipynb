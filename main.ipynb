{
  "cells": [
    {
      "cell_type": "markdown",
      "metadata": {
        "id": "4xZaqE41QE0F"
      },
      "source": [
        "### Read training, dev and unlabeled test data"
      ]
    },
    {
      "cell_type": "markdown",
      "metadata": {
        "id": "Yx0JTuiBQE0N"
      },
      "source": [
        "The following provides a starting code (Python 3) of how to read the labeled training and dev cipher text, and unlabeled test cipher text, into lists."
      ]
    },
    {
      "cell_type": "code",
      "execution_count": null,
      "metadata": {
        "id": "ew_MxOK3QE0O"
      },
      "outputs": [],
      "source": [
        "train, dev, test = [], [], []"
      ]
    },
    {
      "cell_type": "code",
      "execution_count": null,
      "metadata": {
        "colab": {
          "base_uri": "https://localhost:8080/"
        },
        "id": "6sZWeyPzQE0P",
        "outputId": "7ab5fe28-b605-4fb7-f5ff-1f5213415b50"
      },
      "outputs": [
        {
          "output_type": "stream",
          "name": "stdout",
          "text": [
            "16220\n",
            "[[0, 'lkêcê yoúc cêêö y#êjl lw mówám Újám j Úêê# ütlk Úol lkêú z#ê ctöé8ú ówl xoóóú éê#xw#öê#c .'], [0, '6êcétlê jolêot8 zc éê#xw#öjóáê , tl zc j #jlkê# 8tcl8êcc jöÚ8ê 6wüó lkê öt668ê wx lkê #wj6 , ükê#ê lkê lkêöjltá t#wótêc j#ê lww wÚ2twoc jó6 lkê cê+oj8 éw8tltác lww cöoy .'], [0, 'tx lktc kw8t6jú öw2tê tc coééwcê6 lw Úê j ytxl , cwöêÚw6ú oóü#jééê6 tl êj#8ú , lwwm wol j88 lkê yww6 cloxx , jó6 8êxl Úêktó6 lkê á#jé ( 8tlê#j88ú ) .']]\n"
          ]
        }
      ],
      "source": [
        "for x in open('./train_enc.tsv', encoding='utf-8'):\n",
        "    x = x.rstrip('\\n\\r').split('\\t')\n",
        "    # x[0] will be the label (0 or 1), and x[1] will be the ciphertext sentence.\n",
        "    x[0] = int(x[0]) \n",
        "    train.append(x)\n",
        "print (len(train))\n",
        "print (train[:3])"
      ]
    },
    {
      "cell_type": "code",
      "execution_count": null,
      "metadata": {
        "colab": {
          "base_uri": "https://localhost:8080/"
        },
        "id": "-qlap2VKQE0R",
        "outputId": "cc70ad75-7b62-456b-a6e5-5de1ddc44648"
      },
      "outputs": [
        {
          "output_type": "stream",
          "name": "stdout",
          "text": [
            "2027\n",
            "[[1, 'ów8jó Ú#j2ê8ú l#êj6c ükê#ê xêü jöê#tájó xt8öc 6j#ê lw 6ê82ê 77 tólw lkê üw#86 wx jöÚt2j8êóáê jó6 jöÚtyotlú <<<'], [0, 'ê2êó öo#ékú zc ê+éê#l áwötá ltötóy jó6 xjöê6 ákj#tcöj áj ózl #êcáoê lktc êxxw#l .'], [1, 'üt88 jcco#ê68ú #jóm jc wóê wx lkê á8ê2ê#êcl , öwcl 6êáêélt2ê8ú jöoctóy áwöê6têc wx lkê úêj# .']]\n"
          ]
        }
      ],
      "source": [
        "for x in open('./dev_enc.tsv', encoding='utf-8'):\n",
        "    x = x.rstrip('\\n\\r').split('\\t')\n",
        "    # x[0] will be the label (0 or 1), and x[1] will be the ciphertext sentence.\n",
        "    x[0] = int(x[0]) \n",
        "    dev.append(x)\n",
        "print (len(dev))\n",
        "print (dev[:3])"
      ]
    },
    {
      "cell_type": "markdown",
      "metadata": {
        "id": "CAnD74R4QE0S"
      },
      "source": [
        "#### Different from 'train' and 'dev' that are both list of tuples, 'test' will be just a list."
      ]
    },
    {
      "cell_type": "code",
      "execution_count": null,
      "metadata": {
        "colab": {
          "base_uri": "https://localhost:8080/"
        },
        "id": "Qv6QoLuSQE0T",
        "outputId": "c5ee1a19-e233-4963-cd45-a54a2d5aa673"
      },
      "outputs": [
        {
          "output_type": "stream",
          "name": "stdout",
          "text": [
            "2028\n",
            "['j 6t6jáltá jó6 6o88 6wáoöêólj#ú y8w#txútóy cwxlüj#ê jój#ákú .', 'ówlktóy cltámc , #êj88ú , ê+áêél j 8tóyê#tóy á#êêétóêcc wóê xêê8c x#wö Úêtóy 6#jyyê6 lk#woyk j cj6 , cw#6t6 oót2ê#cê wx yoóc , 6#oyc , j2j#táê jó6 6jöjyê6 6#êjöc .', 'öo#ékú jó6 üt8cwó jáloj88ú öjmê j é#êllú yww6 lêjö <<< Úol lkê é#wvêál co##woó6tóy lkêö tc 6tcl#êcctóy8ú #wlê .']\n"
          ]
        }
      ],
      "source": [
        "for x in open('./test_enc_unlabeled.tsv', encoding='utf-8'):\n",
        "    x = x.rstrip('\\n\\r')\n",
        "    test.append(x)\n",
        "print (len(test))\n",
        "print (test[:3])"
      ]
    },
    {
      "cell_type": "markdown",
      "metadata": {
        "id": "6BkSFTZpQE0T"
      },
      "source": [
        "#### You can split every sentence into lists of words by white spaces."
      ]
    },
    {
      "cell_type": "code",
      "execution_count": null,
      "metadata": {
        "id": "rINJ4ekzQE0U"
      },
      "outputs": [],
      "source": [
        "train_split = [[x[0], x[1].split(' ')] for x in train]\n",
        "dev_split = [[x[0], x[1].split(' ')] for x in dev]\n",
        "test_split = [[x.split(' ')] for x in test]"
      ]
    },
    {
      "cell_type": "markdown",
      "metadata": {
        "id": "ohis0KePQE0V"
      },
      "source": [
        "### Main Code Body"
      ]
    },
    {
      "cell_type": "markdown",
      "metadata": {
        "id": "2tIMvSgTQE0V"
      },
      "source": [
        "You may choose to experiment with different methods using your program. However, you need to embed the training and inference processes at here. We will use your prediction on the unlabeled test data to grade, while checking this part to understand how your method has produced the predictions."
      ]
    },
    {
      "cell_type": "code",
      "execution_count": null,
      "metadata": {
        "id": "AhS_WF_MQE0W"
      },
      "outputs": [],
      "source": [
        "# Eventually, results need to be a list of 2028 0 or 1's\n",
        "results = []"
      ]
    },
    {
      "cell_type": "code",
      "source": [
        "import pandas as pd\n",
        "training_data=[]\n",
        "for i in train_split:\n",
        "  training_data.append(i[1])\n",
        "dev_data=[]\n",
        "for i in dev_split:\n",
        "  dev_data.append(i[1])\n",
        "df1=pd.DataFrame(training_data)\n",
        "test_data=[]\n",
        "for i in test_split:\n",
        "  test_data.append(i[0])\n",
        "df1=pd.DataFrame(training_data)\n",
        "length_t_data=df1.shape[1]\n",
        "df2=pd.DataFrame(dev_data)\n",
        "length_d_data=df2.shape[1]\n",
        "df3=pd.DataFrame(test_data)\n",
        "length_test_data=df3.shape[1]\n",
        "max_length_val1=max(length_t_data,length_d_data,length_test_data)\n",
        "max_length_val1"
      ],
      "metadata": {
        "colab": {
          "base_uri": "https://localhost:8080/"
        },
        "id": "7c30YDZWlcBC",
        "outputId": "db25a990-65b1-4026-a23e-791a86b08fd7"
      },
      "execution_count": null,
      "outputs": [
        {
          "output_type": "execute_result",
          "data": {
            "text/plain": [
              "59"
            ]
          },
          "metadata": {},
          "execution_count": 163
        }
      ]
    },
    {
      "cell_type": "code",
      "source": [
        "dict_vocab_train=dict()\n",
        "for i in training_data:\n",
        "  for j,k in enumerate(i):\n",
        "    if(k not in dict_vocab_train):\n",
        "      dict_vocab_train[k]=1\n",
        "    else:\n",
        "      dict_vocab_train[k]=dict_vocab_train[k]+1\n",
        "dict_vocab_train=sorted(dict_vocab_train.items(),key=lambda a:a[1],reverse=True)\n",
        "dict_vocab_train=dict(dict_vocab_train)\n",
        "dict_vocab_train"
      ],
      "metadata": {
        "id": "3TDZ0Ahall0k"
      },
      "execution_count": null,
      "outputs": []
    },
    {
      "cell_type": "code",
      "source": [
        "dict_vocab_dev=dict()\n",
        "for i in dev_data:\n",
        "  for j,k in enumerate(i):\n",
        "    if(k not in dict_vocab_dev):\n",
        "      dict_vocab_dev[k]=1\n",
        "    else:\n",
        "      dict_vocab_dev[k]=dict_vocab_dev[k]+1\n",
        "dict_vocab_dev=sorted(dict_vocab_dev.items(),key=lambda a:a[1],reverse=True)\n",
        "dict_vocab_dev=dict(dict_vocab_dev)\n",
        "dict_vocab_dev"
      ],
      "metadata": {
        "id": "FOvD9NBHnLfH"
      },
      "execution_count": null,
      "outputs": []
    },
    {
      "cell_type": "code",
      "source": [
        "stop_words_train=[]\n",
        "for i in range(15):\n",
        "  a=dict_vocab_train.popitem()\n",
        "  stop_words_train.append(a[0])\n",
        "stop_words_train=set(stop_words_train)\n",
        "stop_words_train"
      ],
      "metadata": {
        "id": "xeomNreplfyx"
      },
      "execution_count": null,
      "outputs": []
    },
    {
      "cell_type": "code",
      "source": [
        "stop_words_dev=[]\n",
        "for i in range(15):\n",
        "  a=dict_vocab_dev.popitem()\n",
        "  stop_words_dev.append(a[0])\n",
        "stop_words_dev=set(stop_words_dev)\n",
        "stop_words_dev\n",
        "import nltk\n",
        "nltk.download('stopwords')\n",
        "from nltk.corpus import stopwords\n",
        "stop=set(stopwords.words(\"english\"))"
      ],
      "metadata": {
        "colab": {
          "base_uri": "https://localhost:8080/"
        },
        "id": "bD9dTLljnzm7",
        "outputId": "8a43f79b-3f74-46ce-8818-90867988ca21"
      },
      "execution_count": null,
      "outputs": [
        {
          "output_type": "stream",
          "name": "stdout",
          "text": [
            "[nltk_data] Downloading package stopwords to /root/nltk_data...\n",
            "[nltk_data]   Package stopwords is already up-to-date!\n"
          ]
        }
      ]
    },
    {
      "cell_type": "code",
      "source": [
        "import pandas as pd\n",
        "df1=pd.DataFrame(train,columns=['labels','ciphertext'])\n",
        "df2=pd.DataFrame(dev,columns=['labels','ciphertext'])\n",
        "df3=pd.DataFrame(test,columns=['ciphertext'])\n",
        "import re\n",
        "import string\n",
        "def re_tag(ciphertext):\n",
        "    temp=re.compile(r\"https?://\\S+|www\\.\\S+\")\n",
        "    return(temp.sub(r\"\",ciphertext))\n",
        "def temp_pun(ciphertext):\n",
        "    temp=str.maketrans(\"\", \"\", string.punctuation)\n",
        "    return(ciphertext.translate(temp))\n",
        "def re_ht(ciphertext):\n",
        "    temp=re.compile(r\"<.*?>\")\n",
        "    return(temp.sub(r\"\",ciphertext))\n",
        "df1[\"ciphertext\"] = df1.ciphertext.map(lambda x:temp_pun(x))\n",
        "df1[\"ciphertext\"] = df1.ciphertext.map(lambda x:re_ht(x))\n",
        "df1[\"ciphertext\"] = df1.ciphertext.map(lambda x:re_tag(x))\n",
        "df2[\"ciphertext\"] = df2.ciphertext.map(lambda x:temp_pun(x))\n",
        "df2[\"ciphertext\"] = df2.ciphertext.map(lambda x:re_ht(x))\n",
        "df2[\"ciphertext\"] = df2.ciphertext.map(lambda x:re_tag(x))\n",
        "df3[\"ciphertext\"] = df3.ciphertext.map(lambda x:re_ht(x))\n",
        "df3[\"ciphertext\"] = df3.ciphertext.map(lambda x:re_tag(x))"
      ],
      "metadata": {
        "id": "iM5Ig8aMtoDc"
      },
      "execution_count": null,
      "outputs": []
    },
    {
      "cell_type": "code",
      "source": [
        "def remove_stopwords(text):\n",
        "    data=[i.lower() for i in text.split() if i.lower() not in stop]\n",
        "    return(\" \".join(data))\n",
        "df1[\"ciphertext\"]=df1[\"ciphertext\"].map(remove_stopwords)\n",
        "df2[\"ciphertext\"]=df2[\"ciphertext\"].map(remove_stopwords)\n",
        "df3[\"ciphertext\"]=df3[\"ciphertext\"].map(remove_stopwords)"
      ],
      "metadata": {
        "id": "rm3ji1lF38VD"
      },
      "execution_count": null,
      "outputs": []
    },
    {
      "cell_type": "code",
      "source": [
        "from collections import Counter\n",
        "def count_train_dev(text):\n",
        "    count=Counter()\n",
        "    for i in text.values:\n",
        "        for j in i.split():\n",
        "            count[j]+=1\n",
        "    return(count)\n",
        "text_train=df1.ciphertext\n",
        "counter_train_val=count_train_dev(df1.ciphertext)\n",
        "text_dev=df2.ciphertext\n",
        "counter_dev_val=count_train_dev(text_dev)"
      ],
      "metadata": {
        "id": "BKDQ6e-6aXvB"
      },
      "execution_count": null,
      "outputs": []
    },
    {
      "cell_type": "code",
      "source": [
        "length_train_count,length_dev_count=len(counter_train_val),len(counter_dev_val)"
      ],
      "metadata": {
        "id": "D0jTqJAxajiU"
      },
      "execution_count": null,
      "outputs": []
    },
    {
      "cell_type": "code",
      "source": [
        "length_train_count"
      ],
      "metadata": {
        "colab": {
          "base_uri": "https://localhost:8080/"
        },
        "id": "EPk85iz1al7j",
        "outputId": "5917a3a5-f06a-4cf6-bf8d-61d5db2bb8d4"
      },
      "execution_count": null,
      "outputs": [
        {
          "output_type": "execute_result",
          "data": {
            "text/plain": [
              "20065"
            ]
          },
          "metadata": {},
          "execution_count": 171
        }
      ]
    },
    {
      "cell_type": "code",
      "source": [
        "length_dev_count"
      ],
      "metadata": {
        "colab": {
          "base_uri": "https://localhost:8080/"
        },
        "id": "JmdK5wUjUwg0",
        "outputId": "6844d352-ac6b-4b57-e450-c3870438f9c9"
      },
      "execution_count": null,
      "outputs": [
        {
          "output_type": "execute_result",
          "data": {
            "text/plain": [
              "7475"
            ]
          },
          "metadata": {},
          "execution_count": 172
        }
      ]
    },
    {
      "cell_type": "code",
      "source": [
        "words_train_num=length_train_count"
      ],
      "metadata": {
        "id": "SdT_WMPvaqig"
      },
      "execution_count": null,
      "outputs": []
    },
    {
      "cell_type": "code",
      "source": [
        "from keras.preprocessing.text import Tokenizer\n",
        "tokenizer=Tokenizer(num_words=words_train_num)\n",
        "tokenizer.fit_on_texts(df1.ciphertext)\n",
        "vocab_size=len(tokenizer.word_index)+1"
      ],
      "metadata": {
        "id": "mpWnTalJbfa3"
      },
      "execution_count": null,
      "outputs": []
    },
    {
      "cell_type": "code",
      "source": [
        "word_index=tokenizer.word_index\n",
        "word_index"
      ],
      "metadata": {
        "id": "aaQoXpVAbpuz"
      },
      "execution_count": null,
      "outputs": []
    },
    {
      "cell_type": "code",
      "source": [
        "seq_train=tokenizer.texts_to_sequences(df1.ciphertext)\n",
        "seq_dev=tokenizer.texts_to_sequences(df2.ciphertext)\n",
        "seq_test=tokenizer.texts_to_sequences(df3.ciphertext)\n",
        "seq_train[0]"
      ],
      "metadata": {
        "colab": {
          "base_uri": "https://localhost:8080/"
        },
        "id": "iOeo3RHtZtMH",
        "outputId": "27ec753d-03b9-43b9-fb5a-8d20652a2b5d"
      },
      "execution_count": null,
      "outputs": [
        {
          "output_type": "execute_result",
          "data": {
            "text/plain": [
              "[192, 589, 240, 134, 5, 4502, 225, 2, 6011, 11, 13, 82, 286, 299, 24, 70, 1263]"
            ]
          },
          "metadata": {},
          "execution_count": 176
        }
      ]
    },
    {
      "cell_type": "code",
      "source": [
        "seq_dev[0]"
      ],
      "metadata": {
        "id": "sK1fTHBgbyet"
      },
      "execution_count": null,
      "outputs": []
    },
    {
      "cell_type": "code",
      "source": [
        "seq_test[0]"
      ],
      "metadata": {
        "id": "dE4H8Sl8ZyLi",
        "outputId": "29801564-8c7d-4639-d81a-14fb28540cf8",
        "colab": {
          "base_uri": "https://localhost:8080/"
        }
      },
      "execution_count": null,
      "outputs": [
        {
          "output_type": "execute_result",
          "data": {
            "text/plain": [
              "[2, 3859, 3, 268, 617, 1103, 13896]"
            ]
          },
          "metadata": {},
          "execution_count": 178
        }
      ]
    },
    {
      "cell_type": "code",
      "source": [
        "!wget -P /root/input/ -c \"https://s3.amazonaws.com/dl4j-distribution/GoogleNews-vectors-negative300.bin.gz\""
      ],
      "metadata": {
        "id": "YQRIaMqbWtKw",
        "colab": {
          "base_uri": "https://localhost:8080/"
        },
        "outputId": "4175c340-4437-48e6-d6d1-0e59a6d275f5"
      },
      "execution_count": null,
      "outputs": [
        {
          "output_type": "stream",
          "name": "stdout",
          "text": [
            "--2022-03-24 12:23:12--  https://s3.amazonaws.com/dl4j-distribution/GoogleNews-vectors-negative300.bin.gz\n",
            "Resolving s3.amazonaws.com (s3.amazonaws.com)... 52.217.11.54\n",
            "Connecting to s3.amazonaws.com (s3.amazonaws.com)|52.217.11.54|:443... connected.\n",
            "HTTP request sent, awaiting response... 200 OK\n",
            "Length: 1647046227 (1.5G) [application/x-gzip]\n",
            "Saving to: ‘/root/input/GoogleNews-vectors-negative300.bin.gz’\n",
            "\n",
            "GoogleNews-vectors- 100%[===================>]   1.53G  51.3MB/s    in 27s     \n",
            "\n",
            "2022-03-24 12:23:40 (57.2 MB/s) - ‘/root/input/GoogleNews-vectors-negative300.bin.gz’ saved [1647046227/1647046227]\n",
            "\n"
          ]
        }
      ]
    },
    {
      "cell_type": "code",
      "source": [
        "emb_file='/root/input/GoogleNews-vectors-negative300.bin.gz'"
      ],
      "metadata": {
        "id": "uAlnWH9xWyFt"
      },
      "execution_count": null,
      "outputs": []
    },
    {
      "cell_type": "code",
      "source": [
        "import gensim\n",
        "from gensim.models import word2vec\n",
        "from gensim.models import KeyedVectors\n",
        "from sklearn.metrics.pairwise import cosine_similarity\n",
        "embed_size=300\n",
        "indx={}\n",
        "word_vectors=KeyedVectors.load_word2vec_format(emb_file,binary=True)"
      ],
      "metadata": {
        "id": "0vPIJvdFWia_"
      },
      "execution_count": null,
      "outputs": []
    },
    {
      "cell_type": "code",
      "source": [
        "train_w2v_model=gensim.models.Word2Vec(sentences=str(seq_train),size=300,window=10,min_count=1)\n",
        "dev_w2v_model=gensim.models.Word2Vec(sentences=str(seq_dev),size=300,window=10,min_count=1)"
      ],
      "metadata": {
        "id": "zUDoIIIEYbWX"
      },
      "execution_count": null,
      "outputs": []
    },
    {
      "cell_type": "code",
      "source": [
        "train_w2v_model.train(seq_train,epochs=10,total_examples=len(seq_train))"
      ],
      "metadata": {
        "id": "srzXntVwadzr",
        "colab": {
          "base_uri": "https://localhost:8080/"
        },
        "outputId": "d76d03e6-dbe4-4847-e2fe-d3197934ecc9"
      },
      "execution_count": null,
      "outputs": [
        {
          "output_type": "execute_result",
          "data": {
            "text/plain": [
              "(0, 2921690)"
            ]
          },
          "metadata": {},
          "execution_count": 179
        }
      ]
    },
    {
      "cell_type": "code",
      "source": [
        "dev_w2v_model.train(seq_dev,epochs=10,total_examples=len(seq_dev))"
      ],
      "metadata": {
        "id": "Yi4arqktaj-9",
        "colab": {
          "base_uri": "https://localhost:8080/"
        },
        "outputId": "4761e01e-e8c8-4a2f-b261-3c418a3c9ecb"
      },
      "execution_count": null,
      "outputs": [
        {
          "output_type": "execute_result",
          "data": {
            "text/plain": [
              "(0, 350120)"
            ]
          },
          "metadata": {},
          "execution_count": 180
        }
      ]
    },
    {
      "cell_type": "code",
      "source": [
        "vocab=train_w2v_model.wv.vocab\n",
        "len(vocab)"
      ],
      "metadata": {
        "id": "6e_pl5zhauAy",
        "colab": {
          "base_uri": "https://localhost:8080/"
        },
        "outputId": "80854b8f-c6d3-479b-eb8e-ce5396971e3a"
      },
      "execution_count": null,
      "outputs": [
        {
          "output_type": "execute_result",
          "data": {
            "text/plain": [
              "14"
            ]
          },
          "metadata": {},
          "execution_count": 181
        }
      ]
    },
    {
      "cell_type": "code",
      "source": [
        "vocab"
      ],
      "metadata": {
        "id": "9CzJjMnbhMeQ"
      },
      "execution_count": null,
      "outputs": []
    },
    {
      "cell_type": "code",
      "source": [
        "vocab=list(vocab)\n",
        "word_vec_dict={}\n",
        "for word in vocab:\n",
        "  word_vec_dict[word]=train_w2v_model.wv.get_vector(word)\n",
        "word_vec_dict"
      ],
      "metadata": {
        "id": "HEnnFNGjedLH"
      },
      "execution_count": null,
      "outputs": []
    },
    {
      "cell_type": "code",
      "source": [
        "import numpy as np\n",
        "dimen=300\n",
        "mat_emb=np.zeros(shape=(vocab_size,dimen))\n",
        "for i,j in tokenizer.word_index.items():\n",
        "  embed_vector=word_vec_dict.get(i)\n",
        "  if embed_vector is not None:  \n",
        "    mat_emb[j]=embed_vector\n",
        "max_length_val=20"
      ],
      "metadata": {
        "id": "5hE_oGCMdcA8"
      },
      "execution_count": null,
      "outputs": []
    },
    {
      "cell_type": "code",
      "source": [
        "from keras.preprocessing.sequence import pad_sequences\n",
        "padd,trun=\"post\",\"post\"\n",
        "train_padding=pad_sequences(seq_train,maxlen=20,padding=padd,truncating=trun)\n",
        "dev_padding=pad_sequences(seq_dev,maxlen=20,padding=padd,truncating=trun)\n",
        "test_padding=pad_sequences(seq_test,maxlen=20,padding=padd,truncating=trun)"
      ],
      "metadata": {
        "id": "UV_W_3Sebzi6"
      },
      "execution_count": null,
      "outputs": []
    },
    {
      "cell_type": "code",
      "source": [
        "train_padding[0]\n",
        "train_padding.shape"
      ],
      "metadata": {
        "colab": {
          "base_uri": "https://localhost:8080/"
        },
        "id": "Yh5BJ5txb5ds",
        "outputId": "ac0dbae0-e459-4249-b083-d51a346c0bd4"
      },
      "execution_count": null,
      "outputs": [
        {
          "output_type": "execute_result",
          "data": {
            "text/plain": [
              "(16220, 20)"
            ]
          },
          "metadata": {},
          "execution_count": 185
        }
      ]
    },
    {
      "cell_type": "code",
      "source": [
        "dev_padding[0]"
      ],
      "metadata": {
        "id": "5-a9gvF3b9kC",
        "colab": {
          "base_uri": "https://localhost:8080/"
        },
        "outputId": "71dd734e-9fbc-4886-c5a6-960326e6e362"
      },
      "execution_count": null,
      "outputs": [
        {
          "output_type": "execute_result",
          "data": {
            "text/plain": [
              "array([ 6858, 17073,  4141,   189,   162,   195,   113,  2975,     5,\n",
              "       17074,    33,    48,     1,   161,     4,  8801,     3,  2795,\n",
              "           0,     0], dtype=int32)"
            ]
          },
          "metadata": {},
          "execution_count": 186
        }
      ]
    },
    {
      "cell_type": "code",
      "source": [
        "test_padding[0]"
      ],
      "metadata": {
        "id": "8BTuKmcJa9Qa",
        "colab": {
          "base_uri": "https://localhost:8080/"
        },
        "outputId": "b651f973-4b52-4253-d8c1-92598416e48b"
      },
      "execution_count": null,
      "outputs": [
        {
          "output_type": "execute_result",
          "data": {
            "text/plain": [
              "array([    2,  3859,     3,   268,   617,  1103, 13896,     0,     0,\n",
              "           0,     0,     0,     0,     0,     0,     0,     0,     0,\n",
              "           0,     0], dtype=int32)"
            ]
          },
          "metadata": {},
          "execution_count": 187
        }
      ]
    },
    {
      "cell_type": "code",
      "source": [
        "print(df1.ciphertext[0])\n",
        "print(seq_train[0])"
      ],
      "metadata": {
        "colab": {
          "base_uri": "https://localhost:8080/"
        },
        "id": "Ks-GNRYzcEzA",
        "outputId": "01ce8d71-884a-493d-ef43-298fe6278fbd"
      },
      "execution_count": null,
      "outputs": [
        {
          "output_type": "stream",
          "name": "stdout",
          "text": [
            "lkêcê yoúc cêêö yêjl lw mówám újám j úêê ütlk úol lkêú zê ctöé8ú ówl xoóóú éêxwöêc\n",
            "[192, 589, 240, 134, 5, 4502, 225, 2, 6011, 11, 13, 82, 286, 299, 24, 70, 1263]\n"
          ]
        }
      ]
    },
    {
      "cell_type": "code",
      "source": [
        "train_padding.shape,dev_padding.shape"
      ],
      "metadata": {
        "colab": {
          "base_uri": "https://localhost:8080/"
        },
        "id": "WBd7YZhucXFB",
        "outputId": "b5877502-58bc-434a-cf2d-02c8038ad932"
      },
      "execution_count": null,
      "outputs": [
        {
          "output_type": "execute_result",
          "data": {
            "text/plain": [
              "((16220, 20), (2027, 20))"
            ]
          },
          "metadata": {},
          "execution_count": 189
        }
      ]
    },
    {
      "cell_type": "code",
      "source": [
        "from keras.models import Model\n",
        "from keras.models import Sequential\n",
        "from tensorflow.keras.optimizers import Adam\n",
        "from keras.layers import Embedding,LSTM,Dense,Dropout\n",
        "from tensorflow.keras.callbacks import ReduceLROnPlateau\n",
        "from keras.layers import Dense,Flatten,Embedding,Input,CuDNNLSTM,LSTM\n",
        "from keras.layers import Dense, Dropout,Embedding,LSTM,Bidirectional\n",
        "model=Sequential()\n",
        "model.add(Embedding(vocab_size,32,input_length=20))\n",
        "model.add(Bidirectional(LSTM(128)))\n",
        "model.add(Dropout(0.50))\n",
        "model.add(Dense(1,activation=\"sigmoid\"))\n",
        "model.compile(optimizer=Adam(learning_rate=3e-4),loss='binary_crossentropy',metrics=['accuracy'])"
      ],
      "metadata": {
        "id": "PaZ9R1X5chUK"
      },
      "execution_count": null,
      "outputs": []
    },
    {
      "cell_type": "code",
      "source": [
        "model.summary()"
      ],
      "metadata": {
        "colab": {
          "base_uri": "https://localhost:8080/"
        },
        "id": "oO0MTqoRcmR7",
        "outputId": "30cf0caf-4940-4745-d04a-e2e37b32aa65"
      },
      "execution_count": null,
      "outputs": [
        {
          "output_type": "stream",
          "name": "stdout",
          "text": [
            "Model: \"sequential_8\"\n",
            "_________________________________________________________________\n",
            " Layer (type)                Output Shape              Param #   \n",
            "=================================================================\n",
            " embedding_7 (Embedding)     (None, 20, 32)            642112    \n",
            "                                                                 \n",
            " bidirectional_5 (Bidirectio  (None, 256)              164864    \n",
            " nal)                                                            \n",
            "                                                                 \n",
            " dropout_5 (Dropout)         (None, 256)               0         \n",
            "                                                                 \n",
            " dense_5 (Dense)             (None, 1)                 257       \n",
            "                                                                 \n",
            "=================================================================\n",
            "Total params: 807,233\n",
            "Trainable params: 807,233\n",
            "Non-trainable params: 0\n",
            "_________________________________________________________________\n"
          ]
        }
      ]
    },
    {
      "cell_type": "code",
      "source": [
        "train_labels=df1.labels\n",
        "dev_labels=df2.labels\n",
        "model.fit(train_padding,train_labels,epochs=20,validation_data=(dev_padding,dev_labels))"
      ],
      "metadata": {
        "colab": {
          "base_uri": "https://localhost:8080/"
        },
        "id": "MprjLTl7cq6_",
        "outputId": "de9f9777-6e64-4e4b-e42b-aa7cb639098e"
      },
      "execution_count": null,
      "outputs": [
        {
          "output_type": "stream",
          "name": "stdout",
          "text": [
            "Epoch 1/20\n",
            "507/507 [==============================] - 9s 18ms/step - loss: 0.0170 - accuracy: 0.9888 - val_loss: 1.2303 - val_accuracy: 0.8495\n",
            "Epoch 2/20\n",
            "507/507 [==============================] - 9s 17ms/step - loss: 0.0182 - accuracy: 0.9885 - val_loss: 1.0645 - val_accuracy: 0.8530\n",
            "Epoch 3/20\n",
            "507/507 [==============================] - 9s 18ms/step - loss: 0.0169 - accuracy: 0.9891 - val_loss: 1.1368 - val_accuracy: 0.8490\n",
            "Epoch 4/20\n",
            "507/507 [==============================] - 9s 18ms/step - loss: 0.0158 - accuracy: 0.9876 - val_loss: 1.2317 - val_accuracy: 0.8500\n",
            "Epoch 5/20\n",
            "507/507 [==============================] - 9s 17ms/step - loss: 0.0161 - accuracy: 0.9884 - val_loss: 1.0487 - val_accuracy: 0.8584\n",
            "Epoch 6/20\n",
            "507/507 [==============================] - 9s 17ms/step - loss: 0.0156 - accuracy: 0.9893 - val_loss: 1.2765 - val_accuracy: 0.8525\n",
            "Epoch 7/20\n",
            "507/507 [==============================] - 9s 17ms/step - loss: 0.0171 - accuracy: 0.9875 - val_loss: 1.0709 - val_accuracy: 0.8476\n",
            "Epoch 8/20\n",
            "507/507 [==============================] - 9s 17ms/step - loss: 0.0173 - accuracy: 0.9882 - val_loss: 1.1754 - val_accuracy: 0.8555\n",
            "Epoch 9/20\n",
            "507/507 [==============================] - 9s 17ms/step - loss: 0.0161 - accuracy: 0.9882 - val_loss: 1.2229 - val_accuracy: 0.8579\n",
            "Epoch 10/20\n",
            "507/507 [==============================] - 9s 18ms/step - loss: 0.0163 - accuracy: 0.9889 - val_loss: 1.2763 - val_accuracy: 0.8510\n",
            "Epoch 11/20\n",
            "507/507 [==============================] - 9s 17ms/step - loss: 0.0169 - accuracy: 0.9877 - val_loss: 1.1509 - val_accuracy: 0.8559\n",
            "Epoch 12/20\n",
            "507/507 [==============================] - 9s 17ms/step - loss: 0.0157 - accuracy: 0.9884 - val_loss: 1.2369 - val_accuracy: 0.8535\n",
            "Epoch 13/20\n",
            "507/507 [==============================] - 9s 19ms/step - loss: 0.0151 - accuracy: 0.9897 - val_loss: 1.3188 - val_accuracy: 0.8545\n",
            "Epoch 14/20\n",
            "507/507 [==============================] - 9s 17ms/step - loss: 0.0154 - accuracy: 0.9891 - val_loss: 1.3315 - val_accuracy: 0.8476\n",
            "Epoch 15/20\n",
            "507/507 [==============================] - 9s 19ms/step - loss: 0.0193 - accuracy: 0.9876 - val_loss: 1.0811 - val_accuracy: 0.8495\n",
            "Epoch 16/20\n",
            "507/507 [==============================] - 9s 17ms/step - loss: 0.0161 - accuracy: 0.9888 - val_loss: 1.2642 - val_accuracy: 0.8535\n",
            "Epoch 17/20\n",
            "507/507 [==============================] - 9s 17ms/step - loss: 0.0174 - accuracy: 0.9882 - val_loss: 1.2014 - val_accuracy: 0.8535\n",
            "Epoch 18/20\n",
            "507/507 [==============================] - 9s 17ms/step - loss: 0.0169 - accuracy: 0.9886 - val_loss: 1.1973 - val_accuracy: 0.8471\n",
            "Epoch 19/20\n",
            "507/507 [==============================] - 9s 17ms/step - loss: 0.0176 - accuracy: 0.9873 - val_loss: 1.2727 - val_accuracy: 0.8515\n",
            "Epoch 20/20\n",
            "507/507 [==============================] - 9s 18ms/step - loss: 0.0160 - accuracy: 0.9873 - val_loss: 1.2912 - val_accuracy: 0.8525\n"
          ]
        },
        {
          "output_type": "execute_result",
          "data": {
            "text/plain": [
              "<keras.callbacks.History at 0x7f310a758550>"
            ]
          },
          "metadata": {},
          "execution_count": 213
        }
      ]
    },
    {
      "cell_type": "code",
      "source": [
        "pred_result=model.predict(test_padding)"
      ],
      "metadata": {
        "id": "v7WxYKt9e0Sd"
      },
      "execution_count": null,
      "outputs": []
    },
    {
      "cell_type": "code",
      "source": [
        "import numpy as np\n",
        "results=np.round(pred_result[:,0])\n",
        "results"
      ],
      "metadata": {
        "colab": {
          "base_uri": "https://localhost:8080/"
        },
        "id": "bMcFIv_NG7m2",
        "outputId": "e1d50025-d20e-462f-93e2-7e50de0c8776"
      },
      "execution_count": null,
      "outputs": [
        {
          "output_type": "execute_result",
          "data": {
            "text/plain": [
              "array([1., 1., 0., ..., 1., 0., 0.], dtype=float32)"
            ]
          },
          "metadata": {},
          "execution_count": 215
        }
      ]
    },
    {
      "cell_type": "markdown",
      "metadata": {
        "id": "ONj2aaH6QE0X"
      },
      "source": [
        "### Output Prediction Result File"
      ]
    },
    {
      "cell_type": "markdown",
      "metadata": {
        "id": "hsj-9RoKQE0X"
      },
      "source": [
        "You will need to submit a prediction result file. It should have 2028 lines, every line should be either 0 or 1, which is your model's prediction on the respective test set instance."
      ]
    },
    {
      "cell_type": "code",
      "execution_count": null,
      "metadata": {
        "id": "s6jaT7SsQE0X"
      },
      "outputs": [],
      "source": [
        "# suppose you had your model's predictions on the 2028 test cases read from test_enc_unlabeled.tsv, and \n",
        "#those results are in the list called 'results'\n",
        "assert (len(results) == 2028)"
      ]
    },
    {
      "cell_type": "code",
      "execution_count": null,
      "metadata": {
        "id": "zKAkZ1--QE0Y"
      },
      "outputs": [],
      "source": [
        "# make sure the results are not float numbers, but intergers 0 and 1\n",
        "results = [int(x) for x in results]"
      ]
    },
    {
      "cell_type": "code",
      "execution_count": null,
      "metadata": {
        "id": "c055zq4uQE0Y"
      },
      "outputs": [],
      "source": [
        "# write your prediction results to 'upload_predictions.txt' and upload that later\n",
        "with open('upload_predictions.txt', 'w', encoding = 'utf-8') as fp:\n",
        "    for x in results:\n",
        "        fp.write(str(x) + '\\n')"
      ]
    }
  ],
  "metadata": {
    "kernelspec": {
      "display_name": "Python 3",
      "language": "python",
      "name": "python3"
    },
    "language_info": {
      "codemirror_mode": {
        "name": "ipython",
        "version": 3
      },
      "file_extension": ".py",
      "mimetype": "text/x-python",
      "name": "python",
      "nbconvert_exporter": "python",
      "pygments_lexer": "ipython3",
      "version": "3.8.3"
    },
    "colab": {
      "name": "main.ipynb",
      "provenance": [],
      "collapsed_sections": []
    },
    "accelerator": "GPU"
  },
  "nbformat": 4,
  "nbformat_minor": 0
}